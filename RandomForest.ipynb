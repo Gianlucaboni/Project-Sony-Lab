{
 "cells": [
  {
   "cell_type": "code",
   "execution_count": 1,
   "metadata": {},
   "outputs": [],
   "source": [
    "import os,sys\n",
    "import matplotlib.pyplot as plt\n",
    "import matplotlib.ticker as ticker\n",
    "import seaborn as sns\n",
    "%matplotlib inline\n",
    "import numpy as np\n",
    "import scipy\n",
    "import pandas as pd\n",
    "import json\n",
    "import pymongo\n",
    "from sklearn.metrics import confusion_matrix\n",
    "import itertools\n",
    "from IPython.display import clear_output\n",
    "from itertools import chain\n",
    "from collections import Counter\n",
    "from datetime import timedelta, datetime\n",
    "from dateutil.relativedelta import relativedelta\n",
    "import random as rnd\n",
    "from bson import ObjectId\n",
    "import matplotlib.dates as mdates\n",
    "import pickle, gzip\n",
    "import time\n",
    "import math \n",
    "#import matplotlib.dates as \n",
    "from sklearn.model_selection import GridSearchCV\n",
    "import seaborn as sns; sns.set()\n",
    "from sklearn.metrics import precision_score, recall_score, roc_auc_score, roc_curve\n",
    "from sklearn.tree import DecisionTreeClassifier\n",
    "from sklearn.model_selection import train_test_split\n",
    "from sklearn.ensemble import RandomForestClassifier\n"
   ]
  },
  {
   "cell_type": "markdown",
   "metadata": {},
   "source": [
    "# Random Forest binary classificator"
   ]
  },
  {
   "cell_type": "markdown",
   "metadata": {},
   "source": [
    "The question is: **\"is it possible to build a model able to predict if a track\n",
    "will have a popularity above or below the mean trend, i.e. if its associated black\n",
    "line will be above the red one ?\"** We know that a Random Forest algorithm can be\n",
    "trained to perform this task. First, we assign to each track of the data-set a binary\n",
    "variable φ = 0,1: if during the first week the track has a popularity greater than\n",
    "the average value then φ = 1, otherwise φ = 0. If during the first week the index\n",
    "results to be above the red line for some days and below for the remaining days,\n",
    "the variable φ is assigned just on a majority criterion."
   ]
  },
  {
   "cell_type": "code",
   "execution_count": 2,
   "metadata": {},
   "outputs": [],
   "source": [
    "path_proj = os.getcwd()+ '/'\n",
    "path_save = path_proj + 'csv/'\n",
    "figure_save = path_proj + 'figures'\n",
    "#print(path_save)"
   ]
  },
  {
   "cell_type": "code",
   "execution_count": 3,
   "metadata": {},
   "outputs": [],
   "source": [
    "df_track = pd.read_csv(path_save + 'df_track+.csv')# tracks' data frame"
   ]
  },
  {
   "cell_type": "code",
   "execution_count": 4,
   "metadata": {},
   "outputs": [
    {
     "data": {
      "text/html": [
       "<div>\n",
       "<style scoped>\n",
       "    .dataframe tbody tr th:only-of-type {\n",
       "        vertical-align: middle;\n",
       "    }\n",
       "\n",
       "    .dataframe tbody tr th {\n",
       "        vertical-align: top;\n",
       "    }\n",
       "\n",
       "    .dataframe thead th {\n",
       "        text-align: right;\n",
       "    }\n",
       "</style>\n",
       "<table border=\"1\" class=\"dataframe\">\n",
       "  <thead>\n",
       "    <tr style=\"text-align: right;\">\n",
       "      <th></th>\n",
       "      <th>Unnamed: 0</th>\n",
       "      <th>id</th>\n",
       "      <th>name</th>\n",
       "      <th>type</th>\n",
       "      <th>added_at</th>\n",
       "      <th>album_id</th>\n",
       "      <th>album_name</th>\n",
       "      <th>artist_id</th>\n",
       "      <th>artist_name</th>\n",
       "      <th>disc_number</th>\n",
       "      <th>...</th>\n",
       "      <th>track_id</th>\n",
       "      <th>day_zero</th>\n",
       "      <th>1week</th>\n",
       "      <th>2week</th>\n",
       "      <th>3week</th>\n",
       "      <th>4week</th>\n",
       "      <th>artist_popularity</th>\n",
       "      <th>dzRank</th>\n",
       "      <th>dzArtFanN</th>\n",
       "      <th>dzAlbumN</th>\n",
       "    </tr>\n",
       "  </thead>\n",
       "  <tbody>\n",
       "    <tr>\n",
       "      <th>0</th>\n",
       "      <td>0</td>\n",
       "      <td>003VDDA7J3Xb2ZFlNx7nIZ</td>\n",
       "      <td>YELL OH</td>\n",
       "      <td>track</td>\n",
       "      <td>2020-03-20T04:01:00Z</td>\n",
       "      <td>2orYogfKeURqyS1hRP1vZ4</td>\n",
       "      <td>YELL OH</td>\n",
       "      <td>6Xgp2XMz1fhVYe7i6yNAax</td>\n",
       "      <td>Trippie Redd</td>\n",
       "      <td>1</td>\n",
       "      <td>...</td>\n",
       "      <td>003VDDA7J3Xb2ZFlNx7nIZ</td>\n",
       "      <td>2020-02-07</td>\n",
       "      <td>1.0</td>\n",
       "      <td>1.0</td>\n",
       "      <td>1.0</td>\n",
       "      <td>1.0</td>\n",
       "      <td>92.0</td>\n",
       "      <td>100000.0</td>\n",
       "      <td>147721.0</td>\n",
       "      <td>26.0</td>\n",
       "    </tr>\n",
       "    <tr>\n",
       "      <th>1</th>\n",
       "      <td>1</td>\n",
       "      <td>00HxGKTPOh701Wv2gmbuA9</td>\n",
       "      <td>valentine's day</td>\n",
       "      <td>track</td>\n",
       "      <td>2020-02-10T18:00:06Z</td>\n",
       "      <td>17DTCLkdvszFaSgSv6areW</td>\n",
       "      <td>valentine's day</td>\n",
       "      <td>0duLKMlcwhyZgqu8zSSjBp</td>\n",
       "      <td>Alaina Castillo</td>\n",
       "      <td>1</td>\n",
       "      <td>...</td>\n",
       "      <td>00HxGKTPOh701Wv2gmbuA9</td>\n",
       "      <td>2020-01-24</td>\n",
       "      <td>1.0</td>\n",
       "      <td>1.0</td>\n",
       "      <td>1.0</td>\n",
       "      <td>1.0</td>\n",
       "      <td>55.0</td>\n",
       "      <td>100000.0</td>\n",
       "      <td>216.0</td>\n",
       "      <td>3.0</td>\n",
       "    </tr>\n",
       "    <tr>\n",
       "      <th>2</th>\n",
       "      <td>2</td>\n",
       "      <td>00SiZEELZ0K4gkUl0rU529</td>\n",
       "      <td>Bandsville</td>\n",
       "      <td>track</td>\n",
       "      <td>2020-02-20T23:01:00Z</td>\n",
       "      <td>1oxxysQmylUXuxzSdHlqUc</td>\n",
       "      <td>Baby Gravy 2</td>\n",
       "      <td>2YOYua8FpudSEiB9s88IgQ</td>\n",
       "      <td>Yung Gravy</td>\n",
       "      <td>1</td>\n",
       "      <td>...</td>\n",
       "      <td>00SiZEELZ0K4gkUl0rU529</td>\n",
       "      <td>2020-02-14</td>\n",
       "      <td>1.0</td>\n",
       "      <td>1.0</td>\n",
       "      <td>1.0</td>\n",
       "      <td>1.0</td>\n",
       "      <td>81.0</td>\n",
       "      <td>100000.0</td>\n",
       "      <td>12174.0</td>\n",
       "      <td>17.0</td>\n",
       "    </tr>\n",
       "    <tr>\n",
       "      <th>3</th>\n",
       "      <td>3</td>\n",
       "      <td>00WSG2jWrgq8Ln8lVLEkOr</td>\n",
       "      <td>3.5.7</td>\n",
       "      <td>track</td>\n",
       "      <td>2020-03-09T09:51:40Z</td>\n",
       "      <td>7GbL3PFtyrG8xT85SrYvms</td>\n",
       "      <td>3.5.7</td>\n",
       "      <td>4MRRW42s9ymwa5zu4xTKJh</td>\n",
       "      <td>Kaza</td>\n",
       "      <td>1</td>\n",
       "      <td>...</td>\n",
       "      <td>00WSG2jWrgq8Ln8lVLEkOr</td>\n",
       "      <td>2020-02-07</td>\n",
       "      <td>1.0</td>\n",
       "      <td>1.0</td>\n",
       "      <td>1.0</td>\n",
       "      <td>1.0</td>\n",
       "      <td>64.0</td>\n",
       "      <td>750996.0</td>\n",
       "      <td>62644.0</td>\n",
       "      <td>8.0</td>\n",
       "    </tr>\n",
       "    <tr>\n",
       "      <th>4</th>\n",
       "      <td>4</td>\n",
       "      <td>00dlNWEiPTtm1ldy6zOUlz</td>\n",
       "      <td>Cita</td>\n",
       "      <td>track</td>\n",
       "      <td>2020-03-10T16:18:32Z</td>\n",
       "      <td>701SovA1xH6bKc98mQJ3HI</td>\n",
       "      <td>Cita</td>\n",
       "      <td>3MHaV05u0io8fQbZ2XPtlC</td>\n",
       "      <td>Prince Royce</td>\n",
       "      <td>1</td>\n",
       "      <td>...</td>\n",
       "      <td>00dlNWEiPTtm1ldy6zOUlz</td>\n",
       "      <td>2020-02-01</td>\n",
       "      <td>1.0</td>\n",
       "      <td>1.0</td>\n",
       "      <td>1.0</td>\n",
       "      <td>1.0</td>\n",
       "      <td>82.0</td>\n",
       "      <td>NaN</td>\n",
       "      <td>1938957.0</td>\n",
       "      <td>29.0</td>\n",
       "    </tr>\n",
       "  </tbody>\n",
       "</table>\n",
       "<p>5 rows × 58 columns</p>\n",
       "</div>"
      ],
      "text/plain": [
       "   Unnamed: 0                      id             name   type  \\\n",
       "0           0  003VDDA7J3Xb2ZFlNx7nIZ          YELL OH  track   \n",
       "1           1  00HxGKTPOh701Wv2gmbuA9  valentine's day  track   \n",
       "2           2  00SiZEELZ0K4gkUl0rU529       Bandsville  track   \n",
       "3           3  00WSG2jWrgq8Ln8lVLEkOr            3.5.7  track   \n",
       "4           4  00dlNWEiPTtm1ldy6zOUlz             Cita  track   \n",
       "\n",
       "               added_at                album_id       album_name  \\\n",
       "0  2020-03-20T04:01:00Z  2orYogfKeURqyS1hRP1vZ4          YELL OH   \n",
       "1  2020-02-10T18:00:06Z  17DTCLkdvszFaSgSv6areW  valentine's day   \n",
       "2  2020-02-20T23:01:00Z  1oxxysQmylUXuxzSdHlqUc     Baby Gravy 2   \n",
       "3  2020-03-09T09:51:40Z  7GbL3PFtyrG8xT85SrYvms            3.5.7   \n",
       "4  2020-03-10T16:18:32Z  701SovA1xH6bKc98mQJ3HI             Cita   \n",
       "\n",
       "                artist_id      artist_name  disc_number  ...  \\\n",
       "0  6Xgp2XMz1fhVYe7i6yNAax     Trippie Redd            1  ...   \n",
       "1  0duLKMlcwhyZgqu8zSSjBp  Alaina Castillo            1  ...   \n",
       "2  2YOYua8FpudSEiB9s88IgQ       Yung Gravy            1  ...   \n",
       "3  4MRRW42s9ymwa5zu4xTKJh             Kaza            1  ...   \n",
       "4  3MHaV05u0io8fQbZ2XPtlC     Prince Royce            1  ...   \n",
       "\n",
       "                 track_id    day_zero  1week  2week  3week 4week  \\\n",
       "0  003VDDA7J3Xb2ZFlNx7nIZ  2020-02-07    1.0    1.0    1.0   1.0   \n",
       "1  00HxGKTPOh701Wv2gmbuA9  2020-01-24    1.0    1.0    1.0   1.0   \n",
       "2  00SiZEELZ0K4gkUl0rU529  2020-02-14    1.0    1.0    1.0   1.0   \n",
       "3  00WSG2jWrgq8Ln8lVLEkOr  2020-02-07    1.0    1.0    1.0   1.0   \n",
       "4  00dlNWEiPTtm1ldy6zOUlz  2020-02-01    1.0    1.0    1.0   1.0   \n",
       "\n",
       "   artist_popularity    dzRank  dzArtFanN  dzAlbumN  \n",
       "0               92.0  100000.0   147721.0      26.0  \n",
       "1               55.0  100000.0      216.0       3.0  \n",
       "2               81.0  100000.0    12174.0      17.0  \n",
       "3               64.0  750996.0    62644.0       8.0  \n",
       "4               82.0       NaN  1938957.0      29.0  \n",
       "\n",
       "[5 rows x 58 columns]"
      ]
     },
     "execution_count": 4,
     "metadata": {},
     "output_type": "execute_result"
    }
   ],
   "source": [
    "df_track.head()"
   ]
  },
  {
   "cell_type": "code",
   "execution_count": 8,
   "metadata": {},
   "outputs": [],
   "source": [
    "\n",
    "cleaned_df = [df_track for k in range(4)]\n",
    "labels = [[] for k in range(4)]\n",
    "week_columns = ['1week','2week','3week','4week']\n",
    "# Extract the labels\n",
    "for i,i_th_week in enumerate(week_columns):\n",
    "    cleaned_df[i] = df_track[df_track[i_th_week]>=-1] #considering tracks which have a not nan value for the field describing\n",
    "    cleaned_df[i] = cleaned_df[i].select_dtypes('number') #the popularity of a track at the i-th week with respect to the average trend of the sample\n",
    "    labels[i] = np.array(cleaned_df[i].pop(i_th_week))\n",
    "    #drop some \"useless\" columns\n",
    "    cleaned_df[i] = cleaned_df[i].drop(columns = ['dz_artist_id', 'dz_album_id',\n",
    "                        'dz_track_id', 'dzTrackPos'] + [w  for w in week_columns if w!=i_th_week])"
   ]
  },
  {
   "cell_type": "markdown",
   "metadata": {},
   "source": [
    "## Splitting dataset in train & test set"
   ]
  },
  {
   "cell_type": "code",
   "execution_count": 13,
   "metadata": {},
   "outputs": [
    {
     "name": "stdout",
     "output_type": "stream",
     "text": [
      "(1417, 27)\n",
      "(608, 27)\n"
     ]
    }
   ],
   "source": [
    "RSEED = 100\n",
    "# splitting dataset 30% examples in test data\n",
    "train, test, train_labels, test_labels = train_test_split(cleaned_df[0], labels[0], \n",
    "                                                          stratify = labels[0],\n",
    "                                                          test_size = 0.3 \n",
    "                                                          )\n",
    "train = train.fillna(train.mean()) #for each feature, missing values are replaced with the average value over the set\n",
    "test = test.fillna(test.mean())\n",
    "\n",
    "# Features for feature importances\n",
    "features = list(train.columns)\n",
    "print(train.shape)\n",
    "print(test.shape)\n",
    "train_labels = train_labels.astype('int')\n",
    "test_labels = test_labels.astype('int')"
   ]
  },
  {
   "cell_type": "markdown",
   "metadata": {},
   "source": [
    "## GridSearch\n",
    "\n",
    "The GridSearch allows to find the optimal choices for the following hyperparameters:\n",
    "\n",
    "<ul>\n",
    "<li> n_estimators : number of trees;</li>\n",
    "<li> max_features : how to compute the maximum number of features on which train the model;</li>\n",
    "<li> criterion : which criterion to use to build the process of classification, i.e. to build the trees of the forest.</li>\n",
    "</ul>"
   ]
  },
  {
   "cell_type": "code",
   "execution_count": 14,
   "metadata": {},
   "outputs": [
    {
     "name": "stdout",
     "output_type": "stream",
     "text": [
      "GridSearch Done!\n"
     ]
    },
    {
     "data": {
      "text/plain": [
       "{'criterion': 'gini', 'max_features': 'auto', 'n_estimators': 55}"
      ]
     },
     "execution_count": 14,
     "metadata": {},
     "output_type": "execute_result"
    }
   ],
   "source": [
    "param_grid = { \n",
    "    'n_estimators': [55,60,65], # previously a widen range explored\n",
    "    'max_features': ['auto', 'sqrt'],\n",
    "    'criterion' :['gini', 'entropy']\n",
    "}\n",
    "\n",
    "rfc = RandomForestClassifier(random_state=42)\n",
    "CV_rfc = GridSearchCV(estimator=rfc, param_grid=param_grid, cv= 5)\n",
    "CV_rfc.fit(train, train_labels)\n",
    "print('GridSearch Done!')\n",
    "CV_rfc.cv_results_ #interessante da vedere almeno una volta\n",
    "CV_rfc.best_params_"
   ]
  },
  {
   "cell_type": "markdown",
   "metadata": {},
   "source": [
    "## Fitting the model on the train set"
   ]
  },
  {
   "cell_type": "code",
   "execution_count": 16,
   "metadata": {},
   "outputs": [
    {
     "name": "stdout",
     "output_type": "stream",
     "text": [
      "Average number of nodes 376\n",
      "Average maximum depth 18\n"
     ]
    },
    {
     "name": "stderr",
     "output_type": "stream",
     "text": [
      "[Parallel(n_jobs=-1)]: Using backend ThreadingBackend with 8 concurrent workers.\n",
      "[Parallel(n_jobs=-1)]: Done  34 tasks      | elapsed:    0.1s\n",
      "[Parallel(n_jobs=-1)]: Done  55 out of  55 | elapsed:    0.1s finished\n"
     ]
    }
   ],
   "source": [
    "model = RandomForestClassifier(n_estimators=CV_rfc.best_params_['n_estimators'], \n",
    "                               random_state=50, \n",
    "                               max_features = CV_rfc.best_params_['max_features'],\n",
    "                               criterion = CV_rfc.best_params_['criterion'],\n",
    "                               n_jobs=-1, verbose = 1)\n",
    "model.fit(train, train_labels)\n",
    "n_nodes = []\n",
    "max_depths = []\n",
    "for ind_tree in model.estimators_:\n",
    "    n_nodes.append(ind_tree.tree_.node_count)\n",
    "    max_depths.append(ind_tree.tree_.max_depth)\n",
    "    \n",
    "print(f'Average number of nodes {int(np.mean(n_nodes))}')\n",
    "print(f'Average maximum depth {int(np.mean(max_depths))}')"
   ]
  },
  {
   "cell_type": "markdown",
   "metadata": {},
   "source": [
    "## Predicitons"
   ]
  },
  {
   "cell_type": "code",
   "execution_count": 17,
   "metadata": {},
   "outputs": [
    {
     "name": "stderr",
     "output_type": "stream",
     "text": [
      "[Parallel(n_jobs=8)]: Using backend ThreadingBackend with 8 concurrent workers.\n",
      "[Parallel(n_jobs=8)]: Done  34 tasks      | elapsed:    0.0s\n",
      "[Parallel(n_jobs=8)]: Done  55 out of  55 | elapsed:    0.0s finished\n",
      "[Parallel(n_jobs=8)]: Using backend ThreadingBackend with 8 concurrent workers.\n",
      "[Parallel(n_jobs=8)]: Done  34 tasks      | elapsed:    0.0s\n",
      "[Parallel(n_jobs=8)]: Done  55 out of  55 | elapsed:    0.0s finished\n",
      "[Parallel(n_jobs=8)]: Using backend ThreadingBackend with 8 concurrent workers.\n",
      "[Parallel(n_jobs=8)]: Done  34 tasks      | elapsed:    0.0s\n",
      "[Parallel(n_jobs=8)]: Done  55 out of  55 | elapsed:    0.0s finished\n",
      "[Parallel(n_jobs=8)]: Using backend ThreadingBackend with 8 concurrent workers.\n",
      "[Parallel(n_jobs=8)]: Done  34 tasks      | elapsed:    0.0s\n",
      "[Parallel(n_jobs=8)]: Done  55 out of  55 | elapsed:    0.0s finished\n"
     ]
    }
   ],
   "source": [
    "train_rf_predictions = model.predict(train)\n",
    "train_rf_probs = model.predict_proba(train)[:, 1]\n",
    "\n",
    "rf_predictions = model.predict(test)\n",
    "rf_probs = model.predict_proba(test)[:, 1]"
   ]
  },
  {
   "cell_type": "markdown",
   "metadata": {},
   "source": [
    "## Evaluation of the model"
   ]
  },
  {
   "cell_type": "code",
   "execution_count": 18,
   "metadata": {},
   "outputs": [],
   "source": [
    "def evaluate_model(predictions, probs, train_predictions, train_probs):\n",
    "    \"\"\"\n",
    "    Compare machine learning model to baseline performance.\n",
    "    Computes statistics and shows ROC curve.\n",
    "    \"\"\"\n",
    "    \n",
    "    baseline = {}\n",
    "    baseline['recall'] = recall_score(test_labels, [1 for _ in range(len(test_labels))])\n",
    "    baseline['precision'] = precision_score(test_labels, [1 for _ in range(len(test_labels))])\n",
    "    baseline['roc'] = 0.5\n",
    "    \n",
    "    results = {}\n",
    "    \n",
    "    results['recall'] = recall_score(test_labels, predictions)\n",
    "    results['precision'] = precision_score(test_labels, predictions)\n",
    "    results['roc'] = roc_auc_score(test_labels, probs)\n",
    "    \n",
    "    train_results = {}\n",
    "    train_results['recall'] = recall_score(train_labels, train_predictions)\n",
    "    train_results['precision'] = precision_score(train_labels, train_predictions)\n",
    "    train_results['roc'] = roc_auc_score(train_labels, train_probs)\n",
    "    \n",
    "    for metric in ['recall', 'precision', 'roc']:\n",
    "        print(f'{metric.capitalize()} Baseline: {round(baseline[metric], 2)} Test: {round(results[metric], 2)} Train: {round(train_results[metric], 2)}')\n",
    "    \n",
    "    # Calculate false positive rates and true positive rates\n",
    "    base_fpr, base_tpr, _ = roc_curve(test_labels, [1 for _ in range(len(test_labels))])\n",
    "    model_fpr, model_tpr, _ = roc_curve(test_labels, probs)\n",
    "\n",
    "    plt.figure(figsize = (12, 8))\n",
    "    plt.rcParams['font.size'] = 16\n",
    "    \n",
    "    # Plot both curves\n",
    "    plt.plot(base_fpr, base_tpr, '--', 'b', label = 'baseline2')\n",
    "    plt.plot(model_fpr, model_tpr, 'r', label = 'model')\n",
    "    #plt.legend()\n",
    "    #plt.grid()\n",
    "    fs = 20\n",
    "    plt.xlabel('False Positive Rate',fontsize = fs)\n",
    "    plt.ylabel('True Positive Rate',fontsize  = fs)\n",
    "    plt.title('ROC Curve',fontsize = fs+5)\n",
    "    plt.savefig('Tesi/ImgTesi/RandomForest/roc.png')\n",
    "    plt.show()\n",
    "    return "
   ]
  },
  {
   "cell_type": "code",
   "execution_count": 19,
   "metadata": {},
   "outputs": [
    {
     "name": "stdout",
     "output_type": "stream",
     "text": [
      "Train ROC AUC Score: 1.0\n",
      "Test ROC AUC  Score: 0.9031814761089358\n",
      "Recall Baseline: 1.0 Test: 0.85 Train: 1.0\n",
      "Precision Baseline: 0.54 Test: 0.83 Train: 1.0\n",
      "Roc Baseline: 0.5 Test: 0.9 Train: 1.0\n"
     ]
    },
    {
     "data": {
      "image/png": "[encoded data removed]",
      "text/plain": [
       "<Figure size 864x576 with 1 Axes>"
      ]
     },
     "metadata": {},
     "output_type": "display_data"
    }
   ],
   "source": [
    "print(f'Train ROC AUC Score: {roc_auc_score(train_labels, train_rf_probs)}')\n",
    "print(f'Test ROC AUC  Score: {roc_auc_score(test_labels, rf_probs)}')\n",
    "evaluate_model(rf_predictions, rf_probs, train_rf_predictions, train_rf_probs)"
   ]
  },
  {
   "cell_type": "markdown",
   "metadata": {},
   "source": [
    "## Feature Importances"
   ]
  },
  {
   "cell_type": "code",
   "execution_count": 23,
   "metadata": {},
   "outputs": [
    {
     "data": {
      "text/html": [
       "<div>\n",
       "<style scoped>\n",
       "    .dataframe tbody tr th:only-of-type {\n",
       "        vertical-align: middle;\n",
       "    }\n",
       "\n",
       "    .dataframe tbody tr th {\n",
       "        vertical-align: top;\n",
       "    }\n",
       "\n",
       "    .dataframe thead th {\n",
       "        text-align: right;\n",
       "    }\n",
       "</style>\n",
       "<table border=\"1\" class=\"dataframe\">\n",
       "  <thead>\n",
       "    <tr style=\"text-align: right;\">\n",
       "      <th></th>\n",
       "      <th>feature</th>\n",
       "      <th>importance</th>\n",
       "    </tr>\n",
       "  </thead>\n",
       "  <tbody>\n",
       "    <tr>\n",
       "      <th>23</th>\n",
       "      <td>artist_popularity</td>\n",
       "      <td>0.292734</td>\n",
       "    </tr>\n",
       "    <tr>\n",
       "      <th>10</th>\n",
       "      <td>loudness</td>\n",
       "      <td>0.068091</td>\n",
       "    </tr>\n",
       "    <tr>\n",
       "      <th>13</th>\n",
       "      <td>acousticness</td>\n",
       "      <td>0.050818</td>\n",
       "    </tr>\n",
       "    <tr>\n",
       "      <th>22</th>\n",
       "      <td>dzGain</td>\n",
       "      <td>0.046502</td>\n",
       "    </tr>\n",
       "    <tr>\n",
       "      <th>8</th>\n",
       "      <td>energy</td>\n",
       "      <td>0.044867</td>\n",
       "    </tr>\n",
       "    <tr>\n",
       "      <th>2</th>\n",
       "      <td>duration_ms</td>\n",
       "      <td>0.042756</td>\n",
       "    </tr>\n",
       "    <tr>\n",
       "      <th>17</th>\n",
       "      <td>tempo</td>\n",
       "      <td>0.038533</td>\n",
       "    </tr>\n",
       "    <tr>\n",
       "      <th>12</th>\n",
       "      <td>speechiness</td>\n",
       "      <td>0.036251</td>\n",
       "    </tr>\n",
       "    <tr>\n",
       "      <th>14</th>\n",
       "      <td>instrumentalness</td>\n",
       "      <td>0.036033</td>\n",
       "    </tr>\n",
       "    <tr>\n",
       "      <th>7</th>\n",
       "      <td>danceability</td>\n",
       "      <td>0.034833</td>\n",
       "    </tr>\n",
       "  </tbody>\n",
       "</table>\n",
       "</div>"
      ],
      "text/plain": [
       "              feature  importance\n",
       "23  artist_popularity    0.292734\n",
       "10           loudness    0.068091\n",
       "13       acousticness    0.050818\n",
       "22             dzGain    0.046502\n",
       "8              energy    0.044867\n",
       "2         duration_ms    0.042756\n",
       "17              tempo    0.038533\n",
       "12        speechiness    0.036251\n",
       "14   instrumentalness    0.036033\n",
       "7        danceability    0.034833"
      ]
     },
     "execution_count": 23,
     "metadata": {},
     "output_type": "execute_result"
    }
   ],
   "source": [
    "fi = pd.DataFrame({'feature': features,\n",
    "                   'importance': model.feature_importances_}).\\\n",
    "                    sort_values('importance', ascending = False)\n",
    "fi[:10] #first ten most valuable information for the classification"
   ]
  },
  {
   "cell_type": "markdown",
   "metadata": {},
   "source": [
    "## Confusion Matrix"
   ]
  },
  {
   "cell_type": "code",
   "execution_count": 29,
   "metadata": {},
   "outputs": [],
   "source": [
    "def plot_confusion_matrix(cm, classes,\n",
    "                          normalize=False,\n",
    "                          title='Confusion matrix',\n",
    "                          cmap=plt.cm.Oranges):\n",
    "    \"\"\"\n",
    "    This function prints and plots the confusion matrix.\n",
    "    Normalization can be applied by setting `normalize=True`.\n",
    "    Source: http://scikit-learn.org/stable/auto_examples/model_selection/plot_confusion_matrix.html\n",
    "    \"\"\"\n",
    "    if normalize:\n",
    "        cm = cm.astype('float') / cm.sum(axis=1)[:, np.newaxis]\n",
    "        print(\"Normalized confusion matrix\")\n",
    "    else:\n",
    "        print('Confusion matrix, without normalization')\n",
    "\n",
    "    print(cm)\n",
    "\n",
    "    plt.figure(figsize = (10, 10))\n",
    "    plt.imshow(cm, interpolation='nearest', cmap=cmap)\n",
    "    plt.title(title, size = 24)\n",
    "    plt.colorbar(aspect=4)\n",
    "    tick_marks = np.arange(len(classes))\n",
    "    plt.xticks(tick_marks, classes, rotation=45, size = 14)\n",
    "    plt.yticks(tick_marks, classes, size = 14)\n",
    "\n",
    "    fmt = '.2f' if normalize else 'd'\n",
    "    thresh = cm.max() / 2.\n",
    "    \n",
    "    # Labeling the plot\n",
    "    for i, j in itertools.product(range(cm.shape[0]), range(cm.shape[1])):\n",
    "        plt.text(j, i, format(cm[i, j], fmt), fontsize = 20,\n",
    "                 horizontalalignment=\"center\",\n",
    "                 color=\"white\" if cm[i, j] > thresh else \"black\")\n",
    "        \n",
    "    plt.grid(None)\n",
    "    plt.tight_layout()\n",
    "    plt.ylabel('True label', size = 18)\n",
    "    plt.xlabel('Predicted label', size = 18)\n",
    "    \n",
    "def plot_heatmap(df,title,filename=False,max_ = False):\n",
    "    \n",
    "    L = 2\n",
    "    plt.figure(figsize=(10,10))\n",
    "    sns.set(font_scale=1.4)\n",
    "    if(not max_):\n",
    "        max_value = df.fillna(0).max().max()\n",
    "    else:\n",
    "        max_value = max_\n",
    "    sns.heatmap(df.fillna(0), vmin=0, vmax=max_value,linewidths=4,annot=True, fmt=\"d\",cmap=\"YlGnBu\")\n",
    "    \n",
    "    plt.title(title,fontsize = 30)\n",
    "    plt.yticks(np.arange(L)+0.5,['Above (T)','Below (T)'], rotation=90, fontsize=\"15\",weight = 'bold', va=\"center\")\n",
    "    plt.xticks(np.arange(L)+0.5,['Above (P)','Below (P)'], rotation=0, fontsize=\"15\",weight = 'bold', va=\"center\")\n",
    "    plt.ylim(L+0., -0.)\n",
    "    plt.plot()\n",
    "    if(filename):\n",
    "        plt.savefig('Tesi/ImgTesi/RandomForest/'+filename + '.png')\n",
    "    return "
   ]
  },
  {
   "cell_type": "code",
   "execution_count": 30,
   "metadata": {},
   "outputs": [
    {
     "data": {
      "image/png": "[encoded data removed]",
      "text/plain": [
       "<Figure size 720x720 with 2 Axes>"
      ]
     },
     "metadata": {},
     "output_type": "display_data"
    }
   ],
   "source": [
    "cm = confusion_matrix(test_labels, rf_predictions)\n",
    "plot_heatmap(pd.DataFrame(cm),'Confusion Matrix',filename='confusion')"
   ]
  }
 ],
 "metadata": {
  "kernelspec": {
   "display_name": "Python 3",
   "language": "python",
   "name": "python3"
  },
  "language_info": {
   "codemirror_mode": {
    "name": "ipython",
    "version": 3
   },
   "file_extension": ".py",
   "mimetype": "text/x-python",
   "name": "python",
   "nbconvert_exporter": "python",
   "pygments_lexer": "ipython3",
   "version": "3.8.5"
  }
 },
 "nbformat": 4,
 "nbformat_minor": 4
}
